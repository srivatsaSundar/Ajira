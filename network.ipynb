{
 "cells": [
  {
   "cell_type": "code",
   "execution_count": 2,
   "metadata": {},
   "outputs": [
    {
     "name": "stdout",
     "output_type": "stream",
     "text": [
      "Welcome to Ajira Network Console Debug Mode!\n"
     ]
    }
   ],
   "source": [
    "from collections import *\n",
    "from device import *\n",
    "q = 1\n",
    "network = defaultdict(lambda:[])\n",
    "\n",
    "def execute_command(command:str):\n",
    "    command = command.split()\n",
    "    if len(command) < 3:\n",
    "        print(\"Error : Invalid command syntax\")\n",
    "        return\n",
    "\n",
    "    if command[0] == \"ADD\":\n",
    "        if command[1] == \"COMPUTER\":\n",
    "            print(add_device(network, command[1], command[2]))\n",
    "        elif command[1] == \"REPEATER\":\n",
    "            print(add_device(network, command[1], command[2]))\n",
    "        else:\n",
    "            print(\"Error: Invalid command syntax\")\n",
    "    \n",
    "    if command[0] == \"SET_DEVICE_STRENGTH\":\n",
    "        print(set_device_strength(network, command[1], command[2]))\n",
    "\n",
    "    if command[0] == \"CONNECT\":\n",
    "        print(connect_device(network, command[1], command[2]))\n",
    "\n",
    "    if command[0] == \"INFO_ROUTE\":\n",
    "        print(info_route(network, command[1], command[2]))\n",
    "\n",
    "        \n",
    "    print(network)\n",
    "\n",
    "\n",
    "\n",
    "\n",
    "\n",
    "print(\"Welcome to Ajira Network Console Debug Mode!\")"
   ]
  },
  {
   "cell_type": "code",
   "execution_count": 4,
   "metadata": {},
   "outputs": [
    {
     "name": "stdout",
     "output_type": "stream",
     "text": [
      "Successfully addedA\n",
      "defaultdict(<function <lambda> at 0x0000011B7D83C8B0>, {'A1': <classes.Device object at 0x0000011B7DF6F9D0>, 'A': <classes.Device object at 0x0000011B7DF6D690>})\n"
     ]
    }
   ],
   "source": [
    "execute_command(\"ADD COMPUTER A\")"
   ]
  },
  {
   "cell_type": "code",
   "execution_count": 5,
   "metadata": {},
   "outputs": [
    {
     "name": "stdout",
     "output_type": "stream",
     "text": [
      "Successfully addedB\n",
      "defaultdict(<function <lambda> at 0x0000011B7D83C8B0>, {'A1': <classes.Device object at 0x0000011B7DF6F9D0>, 'A': <classes.Device object at 0x0000011B7DF6D690>, 'B': <classes.Device object at 0x0000011B7DF6C130>})\n"
     ]
    }
   ],
   "source": [
    "execute_command(\"ADD COMPUTER B\")"
   ]
  },
  {
   "cell_type": "code",
   "execution_count": 6,
   "metadata": {},
   "outputs": [
    {
     "name": "stdout",
     "output_type": "stream",
     "text": [
      "Successfully addedc\n",
      "defaultdict(<function <lambda> at 0x0000011B7D83C8B0>, {'A1': <classes.Device object at 0x0000011B7DF6F9D0>, 'A': <classes.Device object at 0x0000011B7DF6D690>, 'B': <classes.Device object at 0x0000011B7DF6C130>, 'c': <classes.Device object at 0x0000011B7DF9EBF0>})\n"
     ]
    }
   ],
   "source": [
    "execute_command(\"ADD COMPUTER c\")"
   ]
  },
  {
   "cell_type": "code",
   "execution_count": 7,
   "metadata": {},
   "outputs": [
    {
     "name": "stdout",
     "output_type": "stream",
     "text": [
      "Successfully addedR\n",
      "defaultdict(<function <lambda> at 0x0000011B7D83C8B0>, {'A1': <classes.Device object at 0x0000011B7DF6F9D0>, 'A': <classes.Device object at 0x0000011B7DF6D690>, 'B': <classes.Device object at 0x0000011B7DF6C130>, 'c': <classes.Device object at 0x0000011B7DF9EBF0>, 'R': <classes.Device object at 0x0000011B7DF9F070>})\n"
     ]
    }
   ],
   "source": [
    "execute_command(\"ADD REPEATER R\")"
   ]
  },
  {
   "cell_type": "code",
   "execution_count": 11,
   "metadata": {},
   "outputs": [
    {
     "name": "stdout",
     "output_type": "stream",
     "text": [
      "Device1 <classes.Device object at 0x0000011B7DF6D690>\n",
      "Device2 <classes.Device object at 0x0000011B7DF9EBF0>\n",
      "Adjacent:  []\n",
      "Above are the routes found\n",
      "defaultdict(<function <lambda> at 0x0000011B7D83C8B0>, {'A1': <classes.Device object at 0x0000011B7DF6F9D0>, 'A': <classes.Device object at 0x0000011B7DF6D690>, 'B': <classes.Device object at 0x0000011B7DF6C130>, 'c': <classes.Device object at 0x0000011B7DF9EBF0>, 'R': <classes.Device object at 0x0000011B7DF9F070>, 'A3': []})\n"
     ]
    }
   ],
   "source": [
    "execute_command(\"INFO_ROUTE A c\")"
   ]
  },
  {
   "cell_type": "code",
   "execution_count": null,
   "metadata": {},
   "outputs": [],
   "source": []
  }
 ],
 "metadata": {
  "kernelspec": {
   "display_name": "Python 3",
   "language": "python",
   "name": "python3"
  },
  "language_info": {
   "codemirror_mode": {
    "name": "ipython",
    "version": 3
   },
   "file_extension": ".py",
   "mimetype": "text/x-python",
   "name": "python",
   "nbconvert_exporter": "python",
   "pygments_lexer": "ipython3",
   "version": "3.10.9"
  },
  "orig_nbformat": 4,
  "vscode": {
   "interpreter": {
    "hash": "5a5407a9ca0c284cd8c5bcbbcede45ca0997e3f703b337b29601b8ecf94ebdd6"
   }
  }
 },
 "nbformat": 4,
 "nbformat_minor": 2
}
